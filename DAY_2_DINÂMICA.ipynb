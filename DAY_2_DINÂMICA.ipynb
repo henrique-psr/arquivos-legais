{
  "nbformat": 4,
  "nbformat_minor": 0,
  "metadata": {
    "colab": {
      "provenance": [],
      "collapsed_sections": [],
      "authorship_tag": "ABX9TyMIAmX0wsYtZazTdOAi8q7Y",
      "include_colab_link": true
    },
    "kernelspec": {
      "name": "python3",
      "display_name": "Python 3"
    },
    "language_info": {
      "name": "python"
    }
  },
  "cells": [
    {
      "cell_type": "markdown",
      "metadata": {
        "id": "view-in-github",
        "colab_type": "text"
      },
      "source": [
        "<a href=\"https://colab.research.google.com/github/henrique-psr/arquivos-legais/blob/main/DAY_2_DIN%C3%82MICA.ipynb\" target=\"_parent\"><img src=\"https://colab.research.google.com/assets/colab-badge.svg\" alt=\"Open In Colab\"/></a>"
      ]
    },
    {
      "cell_type": "markdown",
      "source": [],
      "metadata": {
        "id": "YjayUciVlBqe"
      }
    },
    {
      "cell_type": "markdown",
      "source": [
        "Nome: HENRIQUE PAULO DA SILVA RIBEIRO\n",
        "\n",
        "RID: 34859"
      ],
      "metadata": {
        "id": "Rx6XmIoOlCzO"
      }
    },
    {
      "cell_type": "code",
      "source": [
        "#1\n",
        "x=5\n",
        "print(\"1 - \",type(x))\n",
        "\n",
        "#2\n",
        "x=5.0\n",
        "print(\"2 - \",type(x))\n",
        "\n",
        "#3\n",
        "x=5.5\n",
        "print(\"3 - \",type(x))\n",
        "\n",
        "#4\n",
        "x='DNC'\n",
        "print(\"4 - \",type(x))\n",
        "\n",
        "#5\n",
        "x=1/2\n",
        "print(\"5 - \",type(x))\n",
        "\n",
        "#6\n",
        "x=0.5*2\n",
        "print(\"6 - \",type(x))\n",
        "\n",
        "#7\n",
        "x=2**4\n",
        "print(\"7 - \",type(x))\n",
        "\n",
        "#8\n",
        "x=2+4\n",
        "print(\"8 - \",type(x))\n",
        "\n",
        "#9\n",
        "x=1000000000\n",
        "print(\"9 - \",type(x))\n",
        "\n"
      ],
      "metadata": {
        "colab": {
          "base_uri": "https://localhost:8080/"
        },
        "id": "I-TL7OFBlMDV",
        "outputId": "1cbd07d2-a900-4f30-a800-b4f65fa217f6"
      },
      "execution_count": null,
      "outputs": [
        {
          "output_type": "stream",
          "name": "stdout",
          "text": [
            "1 -  <class 'int'>\n",
            "2 -  <class 'float'>\n",
            "3 -  <class 'str'>\n",
            "4 -  <class 'float'>\n",
            "5 -  <class 'float'>\n",
            "6 -  <class 'int'>\n",
            "7 -  <class 'int'>\n",
            "8 -  <class 'int'>\n"
          ]
        }
      ]
    },
    {
      "cell_type": "code",
      "source": [
        "#10\n",
        "dadoint = input(\"Digite um dado inteiro: \")\n",
        "\n",
        "while dadoint.isnumeric() == False:\n",
        "  print(f\"Este dado NÃO é um valor Inteiro! Tente novamente!\")\n",
        "  dadoint = input(\"Digite um dado inteiro: \")\n",
        "\n",
        "print(f\"O dado Inteiro digitado foi {dadoint}! Fim do Programa de Validação!\")"
      ],
      "metadata": {
        "id": "OkAVczaToMzB",
        "colab": {
          "base_uri": "https://localhost:8080/"
        },
        "outputId": "15af145b-e0e0-47d6-c015-1fa29da96d33"
      },
      "execution_count": null,
      "outputs": [
        {
          "output_type": "stream",
          "name": "stdout",
          "text": [
            "Digite um dado inteiro: 123.2\n",
            "Este dado NÃO é um valor Inteiro! Tente novamente!\n",
            "Digite um dado inteiro: uweifp\n",
            "Este dado NÃO é um valor Inteiro! Tente novamente!\n",
            "Digite um dado inteiro: 123jkl\n",
            "Este dado NÃO é um valor Inteiro! Tente novamente!\n",
            "Digite um dado inteiro: 1\n",
            "O dado Inteiro digitado foi 1! Fim do Programa de Validação!\n"
          ]
        }
      ]
    },
    {
      "cell_type": "code",
      "source": [
        "#11 (Não determinavel)\n",
        "dadofloat = float(input(\"Digite um dado float: \"))\n",
        "print(dadofloat)\n",
        "print(type(dadofloat))\n",
        "\n",
        "\n"
      ],
      "metadata": {
        "colab": {
          "base_uri": "https://localhost:8080/"
        },
        "id": "kj99HHYLpapO",
        "outputId": "9c4dfa28-ffde-45ba-f846-46a98591063c"
      },
      "execution_count": null,
      "outputs": [
        {
          "output_type": "stream",
          "name": "stdout",
          "text": [
            "Digite um dado float: 10\n",
            "10.0\n",
            "<class 'float'>\n"
          ]
        }
      ]
    },
    {
      "cell_type": "code",
      "source": [
        "#13\n",
        "\n",
        "dadostr = input(\"Digite um dado string: \")\n",
        "\n",
        "teste = dadostr\n",
        "print(type(teste))\n",
        "\n",
        "while dadostr.isalpha() == False:\n",
        "  print(f\"Este dado NÃO é um valor string! Tente novamente!\")\n",
        "  dadostr = input(\"Digite um dado inteiro: \")\n",
        "\n",
        "print(f\"O dado string digitado foi {dadostr}! Fim do Programa de Validação!\")"
      ],
      "metadata": {
        "colab": {
          "base_uri": "https://localhost:8080/"
        },
        "id": "nr8xKAke2caq",
        "outputId": "63f069b6-27e6-4b52-a0bd-f08ee77202d6"
      },
      "execution_count": null,
      "outputs": [
        {
          "output_type": "stream",
          "name": "stdout",
          "text": [
            "Digite um dado string: 123\n",
            "<class 'str'>\n",
            "Este dado NÃO é um valor string! Tente novamente!\n",
            "Digite um dado inteiro: Henrique\n",
            "O dado string digitado foi Henrique! Fim do Programa de Validação!\n"
          ]
        }
      ]
    },
    {
      "cell_type": "code",
      "source": [
        "#questão 2\n",
        "\n",
        "print(\"=\"*50)\n",
        "print(\" \"*22, \"DNC\")\n",
        "print(\"=\"*50)\n",
        "\n",
        "\n",
        "\n"
      ],
      "metadata": {
        "colab": {
          "base_uri": "https://localhost:8080/"
        },
        "id": "Nz_7DCovBiGL",
        "outputId": "91a49c20-11d7-43fb-bb5d-220500736a15"
      },
      "execution_count": null,
      "outputs": [
        {
          "output_type": "stream",
          "name": "stdout",
          "text": [
            "==================================================\n",
            "                       DNC\n",
            "==================================================\n"
          ]
        }
      ]
    },
    {
      "cell_type": "code",
      "source": [
        "salario=10000.00\n",
        "parcela_bmw=2500.45\n",
        "parcela_apartamento=3500.50\n",
        "vet_romeuzinho=500.00\n",
        "luz=100.80\n",
        "agua=80.35\n",
        "condominio=800.44\n",
        "gas=150.65\n",
        "\n",
        "Poupanca = salario - parcela_bmw - parcela_apartamento - vet_romeuzinho - luz-agua-condominio-gas\n",
        "print(f\"O valor disponível para guardar em poupança é R${Poupanca}\")\n"
      ],
      "metadata": {
        "colab": {
          "base_uri": "https://localhost:8080/"
        },
        "id": "eDW943YQFHl_",
        "outputId": "569d483e-426a-4e91-bb0f-5d54e56263fb"
      },
      "execution_count": null,
      "outputs": [
        {
          "output_type": "stream",
          "name": "stdout",
          "text": [
            "O valor disponível para guardar em poupança é R$2366.81\n"
          ]
        }
      ]
    },
    {
      "cell_type": "code",
      "source": [
        "print(\"1 - Formação em dados \\n2 - Formação em Projetos \\n3 - Formação em Marketing \\n4 - Formação em Produto \\n5 - Formação em Tecnologia\")\n",
        "curso = int(input(\"Qual o curso você quer escolher? \\n\"))\n",
        "\n",
        "while curso < 1 or curso > 5:\n",
        "  print('Digite uma formação valida!')\n",
        "  curso = int(input(\"Qual o curso você quer escolher? \\n\"))\n",
        "\n",
        "if curso == 1:\n",
        "  print(\"Você escolheu o curso Formação em Dados no valor de R$20.000,00 que começará no próximo mês\")\n",
        "elif curso == 2:\n",
        "  print(\"Você escolheu o curso Formação em Projetos no valor de R$15.000,00 que começará no próximo mês\")\n",
        "elif curso == 3:\n",
        "  print(\"Você escolheu o curso Formação em Marketing no valor de R$13.000,00 que começará no próximo mês\")\n",
        "elif curso == 4:\n",
        "  print(\"Você escolheu o curso Formação em Produto no valor de R$18.000,00 que começará no próximo mês\")\n",
        "else:\n",
        "  print(\"Você escolheu o curso Formação em Tecnologia no valor de R$19.000,00 que começará no próximo mês\")\n"
      ],
      "metadata": {
        "colab": {
          "base_uri": "https://localhost:8080/"
        },
        "id": "wdvH_C1rGWS4",
        "outputId": "b3768cb3-486b-40fb-8746-cc4e32613e19"
      },
      "execution_count": null,
      "outputs": [
        {
          "output_type": "stream",
          "name": "stdout",
          "text": [
            "1 - Formação em dados \n",
            "2 - Formação em Projetos \n",
            "3 - Formação em Marketing \n",
            "4 - Formação em Produto \n",
            "5 - Formação em Tecnologia\n",
            "Qual o curso você quer escolher? \n",
            "0\n",
            "Digite uma formação valida!\n",
            "Qual o curso você quer escolher? \n",
            "6\n",
            "Digite uma formação valida!\n",
            "Qual o curso você quer escolher? \n",
            "1\n",
            "Você escolheu o curso Formação em Dados no valor de R$20.000,00 que começará no próximo mês\n"
          ]
        }
      ]
    },
    {
      "cell_type": "code",
      "source": [],
      "metadata": {
        "id": "VLXBKBQhKByF"
      },
      "execution_count": null,
      "outputs": []
    }
  ]
}